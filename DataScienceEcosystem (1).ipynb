{
 "cells": [
  {
   "cell_type": "markdown",
   "id": "e6fd26a2-cc00-4261-bc3c-760bc4e642d8",
   "metadata": {},
   "source": [
    "# Data Science Tools and Ecosystem"
   ]
  },
  {
   "cell_type": "code",
   "execution_count": 2,
   "id": "b82d2792-31db-42fa-84a8-1d3116657bdd",
   "metadata": {
    "tags": []
   },
   "outputs": [
    {
     "name": "stdout",
     "output_type": "stream",
     "text": [
      "In this notebook, Data Science Tools and Ecosystem are summarized\n"
     ]
    }
   ],
   "source": [
    "print(\"In this notebook, Data Science Tools and Ecosystem are summarized\")"
   ]
  },
  {
   "cell_type": "markdown",
   "id": "ed18a145-3a4f-44a2-82b2-99f2652d612c",
   "metadata": {},
   "source": [
    "**Objectives:**\n",
    "-List popular languages for data science\n",
    "-Data Science Tools\n",
    "-Arithematic expressions"
   ]
  },
  {
   "cell_type": "markdown",
   "id": "b8d756d1-8369-45cc-a48f-2602a5d0b20e",
   "metadata": {},
   "source": [
    "# Some of the languages of data science are:\n",
    "1. Python\n",
    "2. SQL\n",
    "3. R"
   ]
  },
  {
   "cell_type": "markdown",
   "id": "4ba194e1-8635-4ca8-a17f-3ecbddc0ebb8",
   "metadata": {},
   "source": [
    "Some of the commonly used libraries used by data science:\n",
    "1. dplyr\n",
    "2. stringr\n",
    "3. ggplot"
   ]
  },
  {
   "cell_type": "markdown",
   "id": "42952535-875e-4f1b-b311-18954514d704",
   "metadata": {},
   "source": [
    "|Data Science Tools|\n",
    "|------------------|\n",
    "|Data Management|\n",
    "|Data Integration and  Transformation|\n",
    "|Data Visualization|\n",
    "|Model Building|\n",
    "|Model Deployment|\n",
    "|Model monitoring and assessment|"
   ]
  },
  {
   "cell_type": "markdown",
   "id": "72e72ca4-d90f-47d3-b018-c439f188f420",
   "metadata": {},
   "source": [
    "### Below are the few examples of evaluating arithematic expressions in Python"
   ]
  },
  {
   "cell_type": "code",
   "execution_count": 1,
   "id": "e3707337-c281-406b-9c61-447a7e1cdcab",
   "metadata": {
    "tags": []
   },
   "outputs": [
    {
     "data": {
      "text/plain": [
       "17"
      ]
     },
     "execution_count": 1,
     "metadata": {},
     "output_type": "execute_result"
    }
   ],
   "source": [
    "# This is a simple arithematic expression to multiply and then add integers\n",
    "(3*4)+5"
   ]
  },
  {
   "cell_type": "code",
   "execution_count": 2,
   "id": "df85ba08-d7d9-4c34-82f6-547ec810abf6",
   "metadata": {
    "tags": []
   },
   "outputs": [
    {
     "data": {
      "text/plain": [
       "3.3333333333333335"
      ]
     },
     "execution_count": 2,
     "metadata": {},
     "output_type": "execute_result"
    }
   ],
   "source": [
    "# This will convert 200 minutes to hours by dividing by 60\n",
    "200/60"
   ]
  },
  {
   "cell_type": "markdown",
   "id": "6972d11c-85f5-4b54-8e0e-fb123474c599",
   "metadata": {},
   "source": [
    "## Author\n",
    "Seema"
   ]
  },
  {
   "cell_type": "code",
   "execution_count": null,
   "id": "3ff7849e-2f27-4fdc-bbe4-3381f2f3cbd6",
   "metadata": {},
   "outputs": [],
   "source": []
  }
 ],
 "metadata": {
  "kernelspec": {
   "display_name": "Python",
   "language": "python",
   "name": "conda-env-python-py"
  },
  "language_info": {
   "codemirror_mode": {
    "name": "ipython",
    "version": 3
   },
   "file_extension": ".py",
   "mimetype": "text/x-python",
   "name": "python",
   "nbconvert_exporter": "python",
   "pygments_lexer": "ipython3",
   "version": "3.7.12"
  }
 },
 "nbformat": 4,
 "nbformat_minor": 5
}
